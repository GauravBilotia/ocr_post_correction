{
 "cells": [
  {
   "cell_type": "code",
   "execution_count": 26,
   "id": "645d4aa0-cc98-4ad5-8b98-3a18ca013778",
   "metadata": {},
   "outputs": [],
   "source": [
    "import pytesseract\n",
    "import cv2\n",
    "import json\n",
    "import os\n",
    "import xml.etree.ElementTree as ET\n",
    "\n",
    "pytesseract.pytesseract.tesseract_cmd = r'C:\\Program Files\\Tesseract-OCR\\tesseract'\n",
    "\n",
    "def ocr_extraction(path):\n",
    "    img = cv2.imread(path)\n",
    "    text = pytesseract.image_to_string(img,lang='kor')\n",
    "    text = text.replace('\\n','')\n",
    "    return text\n",
    "\n",
    "def parse_xml(path):\n",
    "    tree = ET.parse(path)\n",
    "    root = tree.getroot()\n",
    "    actual_text = ''.join(character.get('char') for character in root.findall('.//character'))\n",
    "    return actual_text\n",
    "\n",
    "def process_images(img_dir,output_file):\n",
    "    results = []\n",
    "    for file in os.listdir(img_dir):\n",
    "        if file.lower().endswith('.bmp'):\n",
    "            img_path = os.path.join(img_dir,file)\n",
    "            img_id = os.path.splitext(file)[0]\n",
    "            xml_file = os.path.join(img_dir,f\"{img_id}.xml\")\n",
    "            actual_text = parse_xml(xml_file)\n",
    "            actual_text\n",
    "            ocr_text = ocr_extraction(img_path)\n",
    "            results.append({\n",
    "                \"ID\":img_id,\n",
    "                \"Ocr_Text\":ocr_text,\n",
    "                \"actual_Text\":actual_text\n",
    "            })\n",
    "    with open(output_file,'w',encoding='utf-8') as f:\n",
    "        json.dump(results,f,ensure_ascii=False,indent=2)\n",
    "\n",
    "if __name__ == '__main__':\n",
    "    img_dir = r'C:\\Users\\gaura\\OneDrive\\Desktop\\dataset\\outdoor8'\n",
    "    output_file_path = r'result15.json'\n",
    "    process_images(img_dir,output_file_path)\n",
    "\n"
   ]
  },
  {
   "cell_type": "code",
   "execution_count": null,
   "id": "664acd10-2208-4274-90b7-99ce883edfaf",
   "metadata": {},
   "outputs": [],
   "source": []
  },
  {
   "cell_type": "code",
   "execution_count": null,
   "id": "3a606b3d-c81c-451a-8da0-908eaabdc00b",
   "metadata": {},
   "outputs": [],
   "source": []
  }
 ],
 "metadata": {
  "kernelspec": {
   "display_name": "Python 3 (ipykernel)",
   "language": "python",
   "name": "python3"
  },
  "language_info": {
   "codemirror_mode": {
    "name": "ipython",
    "version": 3
   },
   "file_extension": ".py",
   "mimetype": "text/x-python",
   "name": "python",
   "nbconvert_exporter": "python",
   "pygments_lexer": "ipython3",
   "version": "3.12.3"
  }
 },
 "nbformat": 4,
 "nbformat_minor": 5
}
